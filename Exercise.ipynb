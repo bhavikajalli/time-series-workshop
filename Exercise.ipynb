{
 "cells": [
  {
   "cell_type": "markdown",
   "metadata": {},
   "source": [
    "# Time Series Workshop &minus; Exercise\n",
    "\n",
    "ODSC Kiev &minus; April 14, 2018\n",
    "\n",
    "Michael Schmidt\n",
    "\n",
    "https://github.com/mds47/time-series-workshop\n"
   ]
  },
  {
   "cell_type": "markdown",
   "metadata": {},
   "source": [
    "## Setup"
   ]
  },
  {
   "cell_type": "code",
   "execution_count": 1,
   "metadata": {},
   "outputs": [],
   "source": [
    "%matplotlib inline\n",
    "\n",
    "import numpy as np\n",
    "import pandas as pd\n",
    "import matplotlib.pyplot as plt\n",
    "from IPython.display import display, HTML\n",
    "from sklearn.linear_model import ElasticNetCV\n",
    "from sklearn.model_selection import TimeSeriesSplit\n",
    "from sklearn.metrics import mean_squared_error, mean_absolute_error\n",
    "from sklearn.base import BaseEstimator, RegressorMixin"
   ]
  },
  {
   "cell_type": "code",
   "execution_count": 6,
   "metadata": {},
   "outputs": [],
   "source": [
    "# Re-run this cell to reset your recent score history\n",
    "attempt_scores = {}"
   ]
  },
  {
   "cell_type": "markdown",
   "metadata": {},
   "source": [
    "## Scoring Code (DO NOT EDIT)\n",
    "This scoring code defines functions that will be called by the editable section after."
   ]
  },
  {
   "cell_type": "code",
   "execution_count": 3,
   "metadata": {},
   "outputs": [],
   "source": [
    "def fit_model(t, X, y, distance, apriori_columns=None, log_transform=False, \n",
    "              test_size=0.2, estimator=None, show=False, exercise=''):\n",
    "    \"\"\"Fits a forecasting model to predict a future value and displays its accuracy.\n",
    "    \n",
    "    Parameters\n",
    "    ----------\n",
    "    t : pandas.Series, shape = (n_samples, )\n",
    "        The timestamps of each row in the data\n",
    "    X : pandas.DataFrame, shape = (n_samples, n_features)\n",
    "        The input features used for making predictions\n",
    "    y : pandas.Series, shape = (n_samples, )\n",
    "        The target values for each row\n",
    "    distance : int\n",
    "        The distance to forecast. Columns of X that are not listed in apriori_columns \n",
    "        will by shifted by this amount.\n",
    "    apriori_columns : list[str]\n",
    "        List of column names in X that should not be shifted by distance\n",
    "    log_transform : bool\n",
    "        Optional settings to enable log transform of the target\n",
    "    test_size : float or int\n",
    "        The percent or count of rows to use for the test set at the end of the time series\n",
    "    estimator : sklearn.base.BaseEstimator\n",
    "        Override the estimator used to fit the model\n",
    "    show : bool\n",
    "        Display a summary of the score, fit to the data, and feature impact\n",
    "\n",
    "    Returns\n",
    "    -------\n",
    "    estimator : sklearn.base.BaseEstimator\n",
    "        The fitted estimator model\n",
    "    test_score : float\n",
    "        The test split score (MASE by default)\n",
    "    \"\"\"\n",
    "    # apply forecast distance to non a priori columns\n",
    "    if apriori_columns is None:\n",
    "        apriori_columns = []\n",
    "    shift_cols = [c for c in X.columns if c not in apriori_columns]\n",
    "    X[shift_cols] = X[shift_cols].shift(distance)\n",
    "    \n",
    "    # ignore missing value rows\n",
    "    non_null = X.dropna(how='any').index.values\n",
    "\n",
    "    # get row indices for train and test set\n",
    "    if isinstance(test_size, float):\n",
    "        test_size = int(test_size * len(t))\n",
    "    train = non_null[:-test_size]\n",
    "    test  = non_null[-test_size:]\n",
    "\n",
    "    # standardize\n",
    "    numeric_cols = X.select_dtypes(include=[np.number]).columns\n",
    "    centers = X.loc[train, numeric_cols].mean(axis=0)\n",
    "    scales = np.maximum(1e-15, X.loc[train, numeric_cols].std(axis=0))\n",
    "    X[numeric_cols] = (X[numeric_cols] - centers)/scales\n",
    "    \n",
    "    # fit model\n",
    "    if estimator is None:\n",
    "        estimator = ElasticNetCV(n_alphas=100, l1_ratio=0.9, cv=TimeSeriesSplit(5), \n",
    "                                 eps=0.00001, tol=0.00001, max_iter=10000, \n",
    "                                 selection='random', random_state=123)\n",
    "    if log_transform:\n",
    "        estimator = MultiplicativeEstimator(estimator)\n",
    "    estimator.fit(X.loc[train, :], y[train])\n",
    "\n",
    "    y_pred = estimator.predict(X.loc[test, :])\n",
    "    naive = y.shift(distance).loc[test]\n",
    "    test_score = mean_absolute_error(y[test], y_pred)/mean_absolute_error(y[test], naive)\n",
    "\n",
    "    # track the recent scores\n",
    "    if exercise not in attempt_scores:\n",
    "        attempt_scores[exercise] = []\n",
    "    attempt_scores[exercise].append(test_score)\n",
    "\n",
    "    if show:\n",
    "        display(HTML('<h4>rows: {}, columns: {}, distance: {}, test_size: {}, test_error: {}</h4>'.format(\n",
    "            X.shape[0], X.shape[1], distance, test_size, test_score)))\n",
    "        show_attempt_summary(exercise)\n",
    "\n",
    "        # plot the fit\n",
    "        display(HTML('<h3>Model Fit:</h3>'))\n",
    "        plt.figure(figsize=(9,3))\n",
    "        plt.plot(t, y, '.', c='gray', alpha=0.7)\n",
    "        plt.plot(t[train], estimator.predict(X.loc[train, :]), 'b-', lw=2, alpha=0.7)\n",
    "        plt.plot(t[test],  estimator.predict(X.loc[test, :]),  'r-', lw=2, alpha=0.7)\n",
    "        plt.annotate('Test Error: {:%}'.format(test_score), \n",
    "                     xy=(0, 1), xytext=(12, -12), va='top', fontweight='bold',\n",
    "                     xycoords='axes fraction', textcoords='offset points')\n",
    "        plt.show()\n",
    "        \n",
    "        # show feature importances\n",
    "        display(HTML('<h3>Important Features:</h3>'))\n",
    "        if hasattr(estimator, 'coef_'):\n",
    "            coef = pd.Series(estimator.coef_, index=X.columns, name='Importance')\n",
    "            importances = coef.abs() / y.std()\n",
    "            importances = importances[importances > 0]\n",
    "            importances.loc['(others)'] = 0\n",
    "            importances.sort_values(ascending=False, inplace=True)\n",
    "            display(importances.to_frame().style.bar(color='orange'))\n",
    "        else:\n",
    "            display(HTML('<i>Not available</i>'))\n",
    "\n",
    "    return estimator, test_score\n",
    "\n",
    "\n",
    "def show_attempt_summary(ex):\n",
    "    \"\"\"Displays the recent scores\"\"\"\n",
    "    if len(attempt_scores[ex]) > 1:\n",
    "        score_delta = attempt_scores[ex][-1] - attempt_scores[ex][-2]\n",
    "        if score_delta < 0:\n",
    "            color = 'green'\n",
    "        elif score_delta < 1e-6:\n",
    "            color = 'gray'\n",
    "        else:\n",
    "            color = 'red'\n",
    "        message = '<h3>Score Change: <span style=\"color:{};\">{:+}</span></h3>'.format(color, score_delta)\n",
    "        display(HTML(message))\n",
    "\n",
    "        display(HTML('<h3>Recent Errors:</h3>'))\n",
    "        plt.figure(figsize=(9,1))\n",
    "        plt.title('Your Recent Errors')\n",
    "        plt.plot(np.arange(len(attempt_scores[ex])), attempt_scores[ex], 'mo-', mec='white', ms=5)\n",
    "        plt.axhline(min(attempt_scores[ex]), linestyle='--', alpha=0.5, color='gray')\n",
    "        plt.axhline(attempt_scores[ex][-1], linestyle='-', alpha=0.5, color='gray')\n",
    "        plt.xlim(0, len(attempt_scores[ex]))\n",
    "        plt.ylim([0.95*min(attempt_scores[ex]), 1.05*np.nanpercentile(attempt_scores[ex], 95)])\n",
    "        plt.show()\n",
    "\n",
    "\n",
    "class MultiplicativeEstimator(BaseEstimator, RegressorMixin):\n",
    "    \"\"\"Wrapper class that applies a log transform to the target.\"\"\"\n",
    "    def __init__(self, estimator):\n",
    "        self.estimator = estimator\n",
    "        \n",
    "    def fit(self, X, y, *args, **kwargs):\n",
    "        self.estimator.fit(X, np.log(y), *args, **kwargs)\n",
    "        return self\n",
    "    \n",
    "    def predict(self, X):\n",
    "        return np.exp(self.estimator.predict(X))\n",
    "    \n",
    "    def __getattr__(self, name):\n",
    "        return getattr(self.estimator, name)"
   ]
  },
  {
   "cell_type": "markdown",
   "metadata": {},
   "source": [
    "---\n",
    "## Exercise &minus; Electricity Usage\n",
    "\n",
    "Maximize the test set accuracy for the dataset below. You are encouraged to create lagged feature, rolling window statistic feature, as well as a priori features. You create features by adding columns to the dataframe `X` below. For example:\n",
    "\n",
    "```\n",
    "X['y mean 10'] = y.rolling(10).mean()\n",
    "X['y max 10']  = y.rolling(10).max()\n",
    "...\n",
    "```\n",
    "\n",
    "You should edit the skeleton code in the next cell and run it in order to see your score. Be sure to use distinct names for each feature. You can create a name programatically using python string formatting such as `feature_name = '{} lag {}'.format('y', 1)`.\n",
    "\n",
    "### Lags\n",
    "You can create a lag of a variable using the `y.shift(n)` member. For example, `X['y lag 10'] = data['y'].shift(10)` would add the variable y lagged by 10 rows. \n",
    "\n",
    "### Rolling statistics\n",
    "You can create statistics derived from a rolling window using the `y.rolling(n)` member. For example, `X['rolling mean 7'] = y.rolling(7).mean()` would add the rolling mean average of y over the past 7 rows.\n",
    "\n",
    "For more details on other functions that can be called on the window (e.g. `min`, `max`, `sum`, etc), see the pandas documentation here:    \n",
    "https://pandas.pydata.org/pandas-docs/stable/computation.html#window-functions\n",
    "\n",
    "\n",
    "### A priori Features \n",
    "A priori features are features that are known in advance and are not lagged &minus; for example, features derived from the data like the day of the week. Be careful not to use any variables derived from the target or any other type of covariate. You can specify a feature a priori by appending it's name to the `apriori_columns` array:\n",
    "\n",
    "```\n",
    "X['day of week'] = t.dt.dayofweek\n",
    "apriori_columns.append('day of week')\n",
    "```\n",
    "\n",
    "You can view other datetime properties supported by the `.dt` syntax above here:    \n",
    "https://pandas.pydata.org/pandas-docs/stable/api.html#datetimelike-properties\n",
    "\n",
    "### Scoring\n",
    "You can score your features by calling `fit_model(..., show=True)`. The `show=True` parameter will print a summary of your recent model scores, show a plot of the fitted model to the data, and display a table of the feature importance for each feature that you created. If a feature does not appear it means it was not used by the model.\n",
    "\n"
   ]
  },
  {
   "cell_type": "code",
   "execution_count": 25,
   "metadata": {
    "scrolled": true
   },
   "outputs": [
    {
     "data": {
      "text/html": [
       "<h4>rows: 767, columns: 24, distance: 7, test_size: 153, test_error: 0.9342625652483103</h4>"
      ],
      "text/plain": [
       "<IPython.core.display.HTML object>"
      ]
     },
     "metadata": {},
     "output_type": "display_data"
    },
    {
     "data": {
      "text/html": [
       "<h3>Score Change: <span style=\"color:green;\">-0.008399628751290744</span></h3>"
      ],
      "text/plain": [
       "<IPython.core.display.HTML object>"
      ]
     },
     "metadata": {},
     "output_type": "display_data"
    },
    {
     "data": {
      "text/html": [
       "<h3>Recent Errors:</h3>"
      ],
      "text/plain": [
       "<IPython.core.display.HTML object>"
      ]
     },
     "metadata": {},
     "output_type": "display_data"
    },
    {
     "data": {
      "image/png": "[encoded data removed]",
      "text/plain": [
       "<matplotlib.figure.Figure at 0x1185c2f60>"
      ]
     },
     "metadata": {},
     "output_type": "display_data"
    },
    {
     "data": {
      "text/html": [
       "<h3>Model Fit:</h3>"
      ],
      "text/plain": [
       "<IPython.core.display.HTML object>"
      ]
     },
     "metadata": {},
     "output_type": "display_data"
    },
    {
     "data": {
      "image/png": "[encoded data removed]",
      "text/plain": [
       "<matplotlib.figure.Figure at 0x1194f3da0>"
      ]
     },
     "metadata": {},
     "output_type": "display_data"
    },
    {
     "data": {
      "text/html": [
       "<h3>Important Features:</h3>"
      ],
      "text/plain": [
       "<IPython.core.display.HTML object>"
      ]
     },
     "metadata": {},
     "output_type": "display_data"
    },
    {
     "data": {
      "text/html": [
       "<style  type=\"text/css\" >\n",
       "    #T_1a29772e_de35_11e8_a34e_acbc32b0ef8frow0_col0 {\n",
       "            width:  10em;\n",
       "             height:  80%;\n",
       "            background:  linear-gradient(90deg,orange 100.0%, transparent 0%);\n",
       "        }    #T_1a29772e_de35_11e8_a34e_acbc32b0ef8frow1_col0 {\n",
       "            width:  10em;\n",
       "             height:  80%;\n",
       "            background:  linear-gradient(90deg,orange 81.5%, transparent 0%);\n",
       "        }    #T_1a29772e_de35_11e8_a34e_acbc32b0ef8frow2_col0 {\n",
       "            width:  10em;\n",
       "             height:  80%;\n",
       "            background:  linear-gradient(90deg,orange 67.4%, transparent 0%);\n",
       "        }    #T_1a29772e_de35_11e8_a34e_acbc32b0ef8frow3_col0 {\n",
       "            width:  10em;\n",
       "             height:  80%;\n",
       "            background:  linear-gradient(90deg,orange 58.2%, transparent 0%);\n",
       "        }    #T_1a29772e_de35_11e8_a34e_acbc32b0ef8frow4_col0 {\n",
       "            width:  10em;\n",
       "             height:  80%;\n",
       "            background:  linear-gradient(90deg,orange 44.8%, transparent 0%);\n",
       "        }    #T_1a29772e_de35_11e8_a34e_acbc32b0ef8frow5_col0 {\n",
       "            width:  10em;\n",
       "             height:  80%;\n",
       "            background:  linear-gradient(90deg,orange 40.8%, transparent 0%);\n",
       "        }    #T_1a29772e_de35_11e8_a34e_acbc32b0ef8frow6_col0 {\n",
       "            width:  10em;\n",
       "             height:  80%;\n",
       "            background:  linear-gradient(90deg,orange 30.6%, transparent 0%);\n",
       "        }    #T_1a29772e_de35_11e8_a34e_acbc32b0ef8frow7_col0 {\n",
       "            width:  10em;\n",
       "             height:  80%;\n",
       "            background:  linear-gradient(90deg,orange 30.3%, transparent 0%);\n",
       "        }    #T_1a29772e_de35_11e8_a34e_acbc32b0ef8frow8_col0 {\n",
       "            width:  10em;\n",
       "             height:  80%;\n",
       "            background:  linear-gradient(90deg,orange 22.3%, transparent 0%);\n",
       "        }    #T_1a29772e_de35_11e8_a34e_acbc32b0ef8frow9_col0 {\n",
       "            width:  10em;\n",
       "             height:  80%;\n",
       "            background:  linear-gradient(90deg,orange 21.5%, transparent 0%);\n",
       "        }    #T_1a29772e_de35_11e8_a34e_acbc32b0ef8frow10_col0 {\n",
       "            width:  10em;\n",
       "             height:  80%;\n",
       "            background:  linear-gradient(90deg,orange 17.9%, transparent 0%);\n",
       "        }    #T_1a29772e_de35_11e8_a34e_acbc32b0ef8frow11_col0 {\n",
       "            width:  10em;\n",
       "             height:  80%;\n",
       "            background:  linear-gradient(90deg,orange 15.0%, transparent 0%);\n",
       "        }    #T_1a29772e_de35_11e8_a34e_acbc32b0ef8frow12_col0 {\n",
       "            width:  10em;\n",
       "             height:  80%;\n",
       "            background:  linear-gradient(90deg,orange 14.8%, transparent 0%);\n",
       "        }    #T_1a29772e_de35_11e8_a34e_acbc32b0ef8frow13_col0 {\n",
       "            width:  10em;\n",
       "             height:  80%;\n",
       "            background:  linear-gradient(90deg,orange 14.3%, transparent 0%);\n",
       "        }    #T_1a29772e_de35_11e8_a34e_acbc32b0ef8frow14_col0 {\n",
       "            width:  10em;\n",
       "             height:  80%;\n",
       "            background:  linear-gradient(90deg,orange 8.8%, transparent 0%);\n",
       "        }    #T_1a29772e_de35_11e8_a34e_acbc32b0ef8frow15_col0 {\n",
       "            width:  10em;\n",
       "             height:  80%;\n",
       "            background:  linear-gradient(90deg,orange 7.7%, transparent 0%);\n",
       "        }    #T_1a29772e_de35_11e8_a34e_acbc32b0ef8frow16_col0 {\n",
       "            width:  10em;\n",
       "             height:  80%;\n",
       "            background:  linear-gradient(90deg,orange 7.5%, transparent 0%);\n",
       "        }    #T_1a29772e_de35_11e8_a34e_acbc32b0ef8frow17_col0 {\n",
       "            width:  10em;\n",
       "             height:  80%;\n",
       "            background:  linear-gradient(90deg,orange 7.2%, transparent 0%);\n",
       "        }    #T_1a29772e_de35_11e8_a34e_acbc32b0ef8frow18_col0 {\n",
       "            width:  10em;\n",
       "             height:  80%;\n",
       "            background:  linear-gradient(90deg,orange 6.9%, transparent 0%);\n",
       "        }    #T_1a29772e_de35_11e8_a34e_acbc32b0ef8frow19_col0 {\n",
       "            width:  10em;\n",
       "             height:  80%;\n",
       "            background:  linear-gradient(90deg,orange 6.6%, transparent 0%);\n",
       "        }    #T_1a29772e_de35_11e8_a34e_acbc32b0ef8frow20_col0 {\n",
       "            width:  10em;\n",
       "             height:  80%;\n",
       "            background:  linear-gradient(90deg,orange 6.0%, transparent 0%);\n",
       "        }    #T_1a29772e_de35_11e8_a34e_acbc32b0ef8frow21_col0 {\n",
       "            width:  10em;\n",
       "             height:  80%;\n",
       "            background:  linear-gradient(90deg,orange 5.7%, transparent 0%);\n",
       "        }    #T_1a29772e_de35_11e8_a34e_acbc32b0ef8frow22_col0 {\n",
       "            width:  10em;\n",
       "             height:  80%;\n",
       "            background:  linear-gradient(90deg,orange 5.1%, transparent 0%);\n",
       "        }    #T_1a29772e_de35_11e8_a34e_acbc32b0ef8frow23_col0 {\n",
       "            width:  10em;\n",
       "             height:  80%;\n",
       "            background:  linear-gradient(90deg,orange 3.6%, transparent 0%);\n",
       "        }    #T_1a29772e_de35_11e8_a34e_acbc32b0ef8frow24_col0 {\n",
       "            width:  10em;\n",
       "             height:  80%;\n",
       "        }</style>  \n",
       "<table id=\"T_1a29772e_de35_11e8_a34e_acbc32b0ef8f\" > \n",
       "<thead>    <tr> \n",
       "        <th class=\"blank level0\" ></th> \n",
       "        <th class=\"col_heading level0 col0\" >Importance</th> \n",
       "    </tr></thead> \n",
       "<tbody>    <tr> \n",
       "        <th id=\"T_1a29772e_de35_11e8_a34e_acbc32b0ef8flevel0_row0\" class=\"row_heading level0 row0\" >lag 0</th> \n",
       "        <td id=\"T_1a29772e_de35_11e8_a34e_acbc32b0ef8frow0_col0\" class=\"data row0 col0\" >0.225659</td> \n",
       "    </tr>    <tr> \n",
       "        <th id=\"T_1a29772e_de35_11e8_a34e_acbc32b0ef8flevel0_row1\" class=\"row_heading level0 row1\" >lag 7</th> \n",
       "        <td id=\"T_1a29772e_de35_11e8_a34e_acbc32b0ef8frow1_col0\" class=\"data row1 col0\" >0.183883</td> \n",
       "    </tr>    <tr> \n",
       "        <th id=\"T_1a29772e_de35_11e8_a34e_acbc32b0ef8flevel0_row2\" class=\"row_heading level0 row2\" >day_ofthe_week</th> \n",
       "        <td id=\"T_1a29772e_de35_11e8_a34e_acbc32b0ef8frow2_col0\" class=\"data row2 col0\" >0.15214</td> \n",
       "    </tr>    <tr> \n",
       "        <th id=\"T_1a29772e_de35_11e8_a34e_acbc32b0ef8flevel0_row3\" class=\"row_heading level0 row3\" >rolling std 12</th> \n",
       "        <td id=\"T_1a29772e_de35_11e8_a34e_acbc32b0ef8frow3_col0\" class=\"data row3 col0\" >0.131384</td> \n",
       "    </tr>    <tr> \n",
       "        <th id=\"T_1a29772e_de35_11e8_a34e_acbc32b0ef8flevel0_row4\" class=\"row_heading level0 row4\" >rolling mean 3</th> \n",
       "        <td id=\"T_1a29772e_de35_11e8_a34e_acbc32b0ef8frow4_col0\" class=\"data row4 col0\" >0.101171</td> \n",
       "    </tr>    <tr> \n",
       "        <th id=\"T_1a29772e_de35_11e8_a34e_acbc32b0ef8flevel0_row5\" class=\"row_heading level0 row5\" >rolling max 12</th> \n",
       "        <td id=\"T_1a29772e_de35_11e8_a34e_acbc32b0ef8frow5_col0\" class=\"data row5 col0\" >0.0920054</td> \n",
       "    </tr>    <tr> \n",
       "        <th id=\"T_1a29772e_de35_11e8_a34e_acbc32b0ef8flevel0_row6\" class=\"row_heading level0 row6\" >lag 1</th> \n",
       "        <td id=\"T_1a29772e_de35_11e8_a34e_acbc32b0ef8frow6_col0\" class=\"data row6 col0\" >0.0689511</td> \n",
       "    </tr>    <tr> \n",
       "        <th id=\"T_1a29772e_de35_11e8_a34e_acbc32b0ef8flevel0_row7\" class=\"row_heading level0 row7\" >t</th> \n",
       "        <td id=\"T_1a29772e_de35_11e8_a34e_acbc32b0ef8frow7_col0\" class=\"data row7 col0\" >0.0683241</td> \n",
       "    </tr>    <tr> \n",
       "        <th id=\"T_1a29772e_de35_11e8_a34e_acbc32b0ef8flevel0_row8\" class=\"row_heading level0 row8\" >lag 5</th> \n",
       "        <td id=\"T_1a29772e_de35_11e8_a34e_acbc32b0ef8frow8_col0\" class=\"data row8 col0\" >0.0502881</td> \n",
       "    </tr>    <tr> \n",
       "        <th id=\"T_1a29772e_de35_11e8_a34e_acbc32b0ef8flevel0_row9\" class=\"row_heading level0 row9\" >lag 8</th> \n",
       "        <td id=\"T_1a29772e_de35_11e8_a34e_acbc32b0ef8frow9_col0\" class=\"data row9 col0\" >0.0486173</td> \n",
       "    </tr>    <tr> \n",
       "        <th id=\"T_1a29772e_de35_11e8_a34e_acbc32b0ef8flevel0_row10\" class=\"row_heading level0 row10\" >lag 12</th> \n",
       "        <td id=\"T_1a29772e_de35_11e8_a34e_acbc32b0ef8frow10_col0\" class=\"data row10 col0\" >0.0404627</td> \n",
       "    </tr>    <tr> \n",
       "        <th id=\"T_1a29772e_de35_11e8_a34e_acbc32b0ef8flevel0_row11\" class=\"row_heading level0 row11\" >rolling median 12</th> \n",
       "        <td id=\"T_1a29772e_de35_11e8_a34e_acbc32b0ef8frow11_col0\" class=\"data row11 col0\" >0.0339077</td> \n",
       "    </tr>    <tr> \n",
       "        <th id=\"T_1a29772e_de35_11e8_a34e_acbc32b0ef8flevel0_row12\" class=\"row_heading level0 row12\" >rolling mean 6</th> \n",
       "        <td id=\"T_1a29772e_de35_11e8_a34e_acbc32b0ef8frow12_col0\" class=\"data row12 col0\" >0.0332967</td> \n",
       "    </tr>    <tr> \n",
       "        <th id=\"T_1a29772e_de35_11e8_a34e_acbc32b0ef8flevel0_row13\" class=\"row_heading level0 row13\" >rolling mean 12</th> \n",
       "        <td id=\"T_1a29772e_de35_11e8_a34e_acbc32b0ef8frow13_col0\" class=\"data row13 col0\" >0.0323767</td> \n",
       "    </tr>    <tr> \n",
       "        <th id=\"T_1a29772e_de35_11e8_a34e_acbc32b0ef8flevel0_row14\" class=\"row_heading level0 row14\" >week</th> \n",
       "        <td id=\"T_1a29772e_de35_11e8_a34e_acbc32b0ef8frow14_col0\" class=\"data row14 col0\" >0.0198529</td> \n",
       "    </tr>    <tr> \n",
       "        <th id=\"T_1a29772e_de35_11e8_a34e_acbc32b0ef8flevel0_row15\" class=\"row_heading level0 row15\" >lag 6</th> \n",
       "        <td id=\"T_1a29772e_de35_11e8_a34e_acbc32b0ef8frow15_col0\" class=\"data row15 col0\" >0.017415</td> \n",
       "    </tr>    <tr> \n",
       "        <th id=\"T_1a29772e_de35_11e8_a34e_acbc32b0ef8flevel0_row16\" class=\"row_heading level0 row16\" >is_quarter_start</th> \n",
       "        <td id=\"T_1a29772e_de35_11e8_a34e_acbc32b0ef8frow16_col0\" class=\"data row16 col0\" >0.0168884</td> \n",
       "    </tr>    <tr> \n",
       "        <th id=\"T_1a29772e_de35_11e8_a34e_acbc32b0ef8flevel0_row17\" class=\"row_heading level0 row17\" >dayofyear</th> \n",
       "        <td id=\"T_1a29772e_de35_11e8_a34e_acbc32b0ef8frow17_col0\" class=\"data row17 col0\" >0.0162092</td> \n",
       "    </tr>    <tr> \n",
       "        <th id=\"T_1a29772e_de35_11e8_a34e_acbc32b0ef8flevel0_row18\" class=\"row_heading level0 row18\" >lag 4</th> \n",
       "        <td id=\"T_1a29772e_de35_11e8_a34e_acbc32b0ef8frow18_col0\" class=\"data row18 col0\" >0.0156437</td> \n",
       "    </tr>    <tr> \n",
       "        <th id=\"T_1a29772e_de35_11e8_a34e_acbc32b0ef8flevel0_row19\" class=\"row_heading level0 row19\" >lag 3</th> \n",
       "        <td id=\"T_1a29772e_de35_11e8_a34e_acbc32b0ef8frow19_col0\" class=\"data row19 col0\" >0.0149047</td> \n",
       "    </tr>    <tr> \n",
       "        <th id=\"T_1a29772e_de35_11e8_a34e_acbc32b0ef8flevel0_row20\" class=\"row_heading level0 row20\" >lag 11</th> \n",
       "        <td id=\"T_1a29772e_de35_11e8_a34e_acbc32b0ef8frow20_col0\" class=\"data row20 col0\" >0.0136403</td> \n",
       "    </tr>    <tr> \n",
       "        <th id=\"T_1a29772e_de35_11e8_a34e_acbc32b0ef8flevel0_row21\" class=\"row_heading level0 row21\" >rolling min 12</th> \n",
       "        <td id=\"T_1a29772e_de35_11e8_a34e_acbc32b0ef8frow21_col0\" class=\"data row21 col0\" >0.0128426</td> \n",
       "    </tr>    <tr> \n",
       "        <th id=\"T_1a29772e_de35_11e8_a34e_acbc32b0ef8flevel0_row22\" class=\"row_heading level0 row22\" >lag 2</th> \n",
       "        <td id=\"T_1a29772e_de35_11e8_a34e_acbc32b0ef8frow22_col0\" class=\"data row22 col0\" >0.0114323</td> \n",
       "    </tr>    <tr> \n",
       "        <th id=\"T_1a29772e_de35_11e8_a34e_acbc32b0ef8flevel0_row23\" class=\"row_heading level0 row23\" >is_month_start</th> \n",
       "        <td id=\"T_1a29772e_de35_11e8_a34e_acbc32b0ef8frow23_col0\" class=\"data row23 col0\" >0.00801898</td> \n",
       "    </tr>    <tr> \n",
       "        <th id=\"T_1a29772e_de35_11e8_a34e_acbc32b0ef8flevel0_row24\" class=\"row_heading level0 row24\" >(others)</th> \n",
       "        <td id=\"T_1a29772e_de35_11e8_a34e_acbc32b0ef8frow24_col0\" class=\"data row24 col0\" >0</td> \n",
       "    </tr></tbody> \n",
       "</table> "
      ],
      "text/plain": [
       "<pandas.io.formats.style.Styler at 0x1133c3d68>"
      ]
     },
     "metadata": {},
     "output_type": "display_data"
    }
   ],
   "source": [
    "# SETUP: Read data and setup common variables (DO NOT EDIT)\n",
    "data = pd.read_csv('data/turkish_electricity_demand.csv', parse_dates=['date'])\n",
    "\n",
    "data = data[data['date'].dt.year >=2006]\n",
    "\n",
    "t = data['date']\n",
    "X = pd.DataFrame()\n",
    "y = data['y']\n",
    "numeric_columns = data.select_dtypes(include=[np.number])\n",
    "apriori_columns = []\n",
    "\n",
    "\n",
    "# -----------------------------------------\n",
    "# EDIT BELOW: Add Features to X\n",
    "# -----------------------------------------\n",
    "\n",
    "# EXAMPLE: Nearest lag\n",
    "X['lag 0'] = y.shift(0) \n",
    "X['lag 1'] = y.shift(1)\n",
    "X['lag 2'] = y.shift(2)\n",
    "X['lag 3'] = y.shift(3)\n",
    "X['lag 4'] = y.shift(4)\n",
    "X['lag 5'] = y.shift(5)\n",
    "X['lag 6'] = y.shift(6)\n",
    "X['lag 7'] = y.shift(7)\n",
    "X['lag 8'] = y.shift(8)\n",
    "# X['lag 9'] = y.shift(9)\n",
    "# X['lag 10'] = y.shift(10)\n",
    "X['lag 11'] = y.shift(11)\n",
    "X['lag 12'] = y.shift(12)\n",
    "X['t'] = (t - t.min())/(t.max() - t.min())\n",
    "X['rolling mean 3'] = y.rolling(3).mean()\n",
    "X['rolling mean 6'] = y.rolling(6).mean()\n",
    "X['rolling mean 12'] = y.rolling(12).mean()\n",
    "X['rolling std 12'] = y.rolling(12).std()\n",
    "X['rolling min 12'] = y.rolling(12).min()\n",
    "X['rolling max 12'] = y.rolling(12).max()\n",
    "X['rolling median 12'] = y.rolling(12).median()\n",
    "\n",
    "# EXAMPLE: first day of month indicator (a priori)\n",
    "X['is_month_start'] = t.dt.is_month_start \n",
    "apriori_columns.append('is_month_start')\n",
    "X['day_ofthe_week'] = t.dt.dayofweek \n",
    "apriori_columns.append('day_ofthe_week')\n",
    "X['is_quarter_start'] = t.dt.is_quarter_start\n",
    "apriori_columns.append('is_quarter_start')\n",
    "X['week'] = t.dt.week\n",
    "apriori_columns.append('week')\n",
    "X['dayofyear'] = t.dt.dayofyear\n",
    "apriori_columns.append('dayofyear')\n",
    "\n",
    "\n",
    "# SCORING: Fit model and and display fit and score (DO NOT EDIT)\n",
    "model, score = fit_model(\n",
    "    t, X, y, \n",
    "    apriori_columns=apriori_columns,\n",
    "    log_transform=False,\n",
    "    distance=7, \n",
    "    show=True,\n",
    "    exercise='electricity',\n",
    ")"
   ]
  },
  {
   "cell_type": "markdown",
   "metadata": {},
   "source": [
    "---\n",
    "## Another Dataset &minus; Stock Data\n",
    "For fun, try to forecast the price of a stock into the future. Stock data is notoriously difficult to forecast. Expore this data to see if any signals exist and what accuracy is possible, if any. This data was collected via the Yahoo Finance API:\n",
    "\n",
    "```\n",
    "import pandas_datareader.data as web\n",
    "data = web.DataReader(['IBM', 'GOOG', 'AAPL', 'MSFT'], 'yahoo', '2010-01-01', '2017-04-14')\n",
    "data = data.sort_index()\n",
    "data = data['Close']\n",
    "data.to_csv('stock_close_prices.csv')\n",
    "```\n"
   ]
  },
  {
   "cell_type": "code",
   "execution_count": 51,
   "metadata": {
    "scrolled": false
   },
   "outputs": [
    {
     "name": "stderr",
     "output_type": "stream",
     "text": [
      "/Users/BhavikaJalli/anaconda3/lib/python3.6/site-packages/sklearn/linear_model/coordinate_descent.py:491: ConvergenceWarning: Objective did not converge. You might want to increase the number of iterations. Fitting data with very small alpha may cause precision problems.\n",
      "  ConvergenceWarning)\n"
     ]
    },
    {
     "data": {
      "text/html": [
       "<h4>rows: 1970, columns: 28, distance: 28, test_size: 394, test_error: 0.8630165233729815</h4>"
      ],
      "text/plain": [
       "<IPython.core.display.HTML object>"
      ]
     },
     "metadata": {},
     "output_type": "display_data"
    },
    {
     "data": {
      "text/html": [
       "<h3>Score Change: <span style=\"color:green;\">-0.027001736083327565</span></h3>"
      ],
      "text/plain": [
       "<IPython.core.display.HTML object>"
      ]
     },
     "metadata": {},
     "output_type": "display_data"
    },
    {
     "data": {
      "text/html": [
       "<h3>Recent Errors:</h3>"
      ],
      "text/plain": [
       "<IPython.core.display.HTML object>"
      ]
     },
     "metadata": {},
     "output_type": "display_data"
    },
    {
     "data": {
      "image/png": "[encoded data removed]",
      "text/plain": [
       "<matplotlib.figure.Figure at 0x118fe0240>"
      ]
     },
     "metadata": {},
     "output_type": "display_data"
    },
    {
     "data": {
      "text/html": [
       "<h3>Model Fit:</h3>"
      ],
      "text/plain": [
       "<IPython.core.display.HTML object>"
      ]
     },
     "metadata": {},
     "output_type": "display_data"
    },
    {
     "data": {
      "image/png": "[encoded data removed]",
      "text/plain": [
       "<matplotlib.figure.Figure at 0x1a1d29d908>"
      ]
     },
     "metadata": {},
     "output_type": "display_data"
    },
    {
     "data": {
      "text/html": [
       "<h3>Important Features:</h3>"
      ],
      "text/plain": [
       "<IPython.core.display.HTML object>"
      ]
     },
     "metadata": {},
     "output_type": "display_data"
    },
    {
     "data": {
      "text/html": [
       "<style  type=\"text/css\" >\n",
       "    #T_07da512c_de37_11e8_86a7_acbc32b0ef8frow0_col0 {\n",
       "            width:  10em;\n",
       "             height:  80%;\n",
       "            background:  linear-gradient(90deg,orange 100.0%, transparent 0%);\n",
       "        }    #T_07da512c_de37_11e8_86a7_acbc32b0ef8frow1_col0 {\n",
       "            width:  10em;\n",
       "             height:  80%;\n",
       "            background:  linear-gradient(90deg,orange 57.7%, transparent 0%);\n",
       "        }    #T_07da512c_de37_11e8_86a7_acbc32b0ef8frow2_col0 {\n",
       "            width:  10em;\n",
       "             height:  80%;\n",
       "            background:  linear-gradient(90deg,orange 50.1%, transparent 0%);\n",
       "        }    #T_07da512c_de37_11e8_86a7_acbc32b0ef8frow3_col0 {\n",
       "            width:  10em;\n",
       "             height:  80%;\n",
       "            background:  linear-gradient(90deg,orange 25.1%, transparent 0%);\n",
       "        }    #T_07da512c_de37_11e8_86a7_acbc32b0ef8frow4_col0 {\n",
       "            width:  10em;\n",
       "             height:  80%;\n",
       "            background:  linear-gradient(90deg,orange 24.7%, transparent 0%);\n",
       "        }    #T_07da512c_de37_11e8_86a7_acbc32b0ef8frow5_col0 {\n",
       "            width:  10em;\n",
       "             height:  80%;\n",
       "            background:  linear-gradient(90deg,orange 23.0%, transparent 0%);\n",
       "        }    #T_07da512c_de37_11e8_86a7_acbc32b0ef8frow6_col0 {\n",
       "            width:  10em;\n",
       "             height:  80%;\n",
       "            background:  linear-gradient(90deg,orange 13.3%, transparent 0%);\n",
       "        }    #T_07da512c_de37_11e8_86a7_acbc32b0ef8frow7_col0 {\n",
       "            width:  10em;\n",
       "             height:  80%;\n",
       "            background:  linear-gradient(90deg,orange 7.8%, transparent 0%);\n",
       "        }    #T_07da512c_de37_11e8_86a7_acbc32b0ef8frow8_col0 {\n",
       "            width:  10em;\n",
       "             height:  80%;\n",
       "            background:  linear-gradient(90deg,orange 7.7%, transparent 0%);\n",
       "        }    #T_07da512c_de37_11e8_86a7_acbc32b0ef8frow9_col0 {\n",
       "            width:  10em;\n",
       "             height:  80%;\n",
       "            background:  linear-gradient(90deg,orange 4.0%, transparent 0%);\n",
       "        }    #T_07da512c_de37_11e8_86a7_acbc32b0ef8frow10_col0 {\n",
       "            width:  10em;\n",
       "             height:  80%;\n",
       "            background:  linear-gradient(90deg,orange 0.5%, transparent 0%);\n",
       "        }    #T_07da512c_de37_11e8_86a7_acbc32b0ef8frow11_col0 {\n",
       "            width:  10em;\n",
       "             height:  80%;\n",
       "        }</style>  \n",
       "<table id=\"T_07da512c_de37_11e8_86a7_acbc32b0ef8f\" > \n",
       "<thead>    <tr> \n",
       "        <th class=\"blank level0\" ></th> \n",
       "        <th class=\"col_heading level0 col0\" >Importance</th> \n",
       "    </tr></thead> \n",
       "<tbody>    <tr> \n",
       "        <th id=\"T_07da512c_de37_11e8_86a7_acbc32b0ef8flevel0_row0\" class=\"row_heading level0 row0\" >lag 0</th> \n",
       "        <td id=\"T_07da512c_de37_11e8_86a7_acbc32b0ef8frow0_col0\" class=\"data row0 col0\" >0.26546</td> \n",
       "    </tr>    <tr> \n",
       "        <th id=\"T_07da512c_de37_11e8_86a7_acbc32b0ef8flevel0_row1\" class=\"row_heading level0 row1\" >rolling mean 3</th> \n",
       "        <td id=\"T_07da512c_de37_11e8_86a7_acbc32b0ef8frow1_col0\" class=\"data row1 col0\" >0.153207</td> \n",
       "    </tr>    <tr> \n",
       "        <th id=\"T_07da512c_de37_11e8_86a7_acbc32b0ef8flevel0_row2\" class=\"row_heading level0 row2\" >lag 1</th> \n",
       "        <td id=\"T_07da512c_de37_11e8_86a7_acbc32b0ef8frow2_col0\" class=\"data row2 col0\" >0.133065</td> \n",
       "    </tr>    <tr> \n",
       "        <th id=\"T_07da512c_de37_11e8_86a7_acbc32b0ef8flevel0_row3\" class=\"row_heading level0 row3\" >t</th> \n",
       "        <td id=\"T_07da512c_de37_11e8_86a7_acbc32b0ef8frow3_col0\" class=\"data row3 col0\" >0.066655</td> \n",
       "    </tr>    <tr> \n",
       "        <th id=\"T_07da512c_de37_11e8_86a7_acbc32b0ef8flevel0_row4\" class=\"row_heading level0 row4\" >rolling mean 6</th> \n",
       "        <td id=\"T_07da512c_de37_11e8_86a7_acbc32b0ef8frow4_col0\" class=\"data row4 col0\" >0.0655797</td> \n",
       "    </tr>    <tr> \n",
       "        <th id=\"T_07da512c_de37_11e8_86a7_acbc32b0ef8flevel0_row5\" class=\"row_heading level0 row5\" >lag 2</th> \n",
       "        <td id=\"T_07da512c_de37_11e8_86a7_acbc32b0ef8frow5_col0\" class=\"data row5 col0\" >0.0609543</td> \n",
       "    </tr>    <tr> \n",
       "        <th id=\"T_07da512c_de37_11e8_86a7_acbc32b0ef8flevel0_row6\" class=\"row_heading level0 row6\" >lag m0</th> \n",
       "        <td id=\"T_07da512c_de37_11e8_86a7_acbc32b0ef8frow6_col0\" class=\"data row6 col0\" >0.0353983</td> \n",
       "    </tr>    <tr> \n",
       "        <th id=\"T_07da512c_de37_11e8_86a7_acbc32b0ef8flevel0_row7\" class=\"row_heading level0 row7\" >lag 3</th> \n",
       "        <td id=\"T_07da512c_de37_11e8_86a7_acbc32b0ef8frow7_col0\" class=\"data row7 col0\" >0.020688</td> \n",
       "    </tr>    <tr> \n",
       "        <th id=\"T_07da512c_de37_11e8_86a7_acbc32b0ef8flevel0_row8\" class=\"row_heading level0 row8\" >rolling std 12</th> \n",
       "        <td id=\"T_07da512c_de37_11e8_86a7_acbc32b0ef8frow8_col0\" class=\"data row8 col0\" >0.0205287</td> \n",
       "    </tr>    <tr> \n",
       "        <th id=\"T_07da512c_de37_11e8_86a7_acbc32b0ef8flevel0_row9\" class=\"row_heading level0 row9\" >lag z0</th> \n",
       "        <td id=\"T_07da512c_de37_11e8_86a7_acbc32b0ef8frow9_col0\" class=\"data row9 col0\" >0.0106849</td> \n",
       "    </tr>    <tr> \n",
       "        <th id=\"T_07da512c_de37_11e8_86a7_acbc32b0ef8flevel0_row10\" class=\"row_heading level0 row10\" >day_ofthe_week</th> \n",
       "        <td id=\"T_07da512c_de37_11e8_86a7_acbc32b0ef8frow10_col0\" class=\"data row10 col0\" >0.00128037</td> \n",
       "    </tr>    <tr> \n",
       "        <th id=\"T_07da512c_de37_11e8_86a7_acbc32b0ef8flevel0_row11\" class=\"row_heading level0 row11\" >(others)</th> \n",
       "        <td id=\"T_07da512c_de37_11e8_86a7_acbc32b0ef8frow11_col0\" class=\"data row11 col0\" >0</td> \n",
       "    </tr></tbody> \n",
       "</table> "
      ],
      "text/plain": [
       "<pandas.io.formats.style.Styler at 0x10d190518>"
      ]
     },
     "metadata": {},
     "output_type": "display_data"
    }
   ],
   "source": [
    "# SETUP: Read data and setup common variables (DO NOT EDIT)\n",
    "data = pd.read_csv('data/stock_close_prices.csv', parse_dates=['Date'])\n",
    "#data = data[data['Date'].dt.year >=2016]\n",
    "t = data['Date']\n",
    "X = pd.DataFrame()\n",
    "y = data['AAPL']\n",
    "\n",
    "numeric_columns = data.select_dtypes(include=[np.number])\n",
    "apriori_columns = []\n",
    "z = data['IBM']\n",
    "g = data['GOOG']\n",
    "# -----------------------------------------\n",
    "# EDIT BELOW: Add Features to X\n",
    "# -----------------------------------------\n",
    "\n",
    "# EXAMPLE: Nearest lag\n",
    "X['lag 0'] = y.shift(0) \n",
    "X['lag 1'] = y.shift(1)\n",
    "X['lag 2'] = y.shift(2)\n",
    "X['lag 3'] = y.shift(3)\n",
    "X['lag 4'] = y.shift(4)\n",
    "X['lag 5'] = y.shift(5)\n",
    "X['lag 6'] = y.shift(6)\n",
    "X['lag 7'] = y.shift(7)\n",
    "X['lag 8'] = y.shift(8)\n",
    "X['lag 9'] = y.shift(9)\n",
    "X['lag 10'] = y.shift(10)\n",
    "X['lag 11'] = y.shift(11)\n",
    "X['lag 12'] = y.shift(12)\n",
    "X['lag 13'] = y.shift(13)\n",
    "X['lag 14'] = y.shift(14)\n",
    "X['lag 15'] = y.shift(15)\n",
    "X['t'] = (t - t.min())/(t.max() - t.min())\n",
    "X['rolling mean 3'] = y.rolling(3).mean()\n",
    "X['rolling mean 6'] = y.rolling(6).mean()\n",
    "X['rolling mean 12'] = y.rolling(12).mean()\n",
    "X['rolling std 12'] = y.rolling(12).std()\n",
    "X['rolling min 12'] = y.rolling(12).min()\n",
    "X['rolling max 12'] = y.rolling(12).max()\n",
    "X['rolling median 12'] = y.rolling(12).median()\n",
    "\n",
    "\n",
    "X['lag z0'] = data['IBM']\n",
    "#X['lag z12'] = z.shift(12)\n",
    "#X['rolling mean z12'] = z.rolling(12).mean()\n",
    "#X['rolling std z12'] = z.rolling(12).std()\n",
    "\n",
    "#X['lag g0'] = data['GOOG']\n",
    "X['lag m0'] = data['MSFT']\n",
    "# X['lag g12'] = g.shift(12)\n",
    "# X['rolling mean g12'] = g.rolling(12).mean()\n",
    "# X['rolling std g12'] = g.rolling(12).std()\n",
    "\n",
    "# EXAMPLE: first day of month indicator (a priori)\n",
    "X['is_month_start'] = t.dt.is_month_start \n",
    "apriori_columns.append('is_month_start')\n",
    "X['day_ofthe_week'] = t.dt.dayofweek \n",
    "apriori_columns.append('day_ofthe_week')\n",
    "\n",
    "#Adding the IBM price\n",
    "\n",
    "\n",
    "\n",
    "\n",
    "# SCORING: Fit model and and display fit and score (DO NOT EDIT)\n",
    "model, score = fit_model(\n",
    "    t, X, y, \n",
    "    apriori_columns=apriori_columns,\n",
    "    log_transform=False,\n",
    "    distance=28, \n",
    "    show=True,\n",
    "    exercise='stocks',\n",
    ")"
   ]
  },
  {
   "cell_type": "markdown",
   "metadata": {},
   "source": [
    "## Questions\n",
    "1. What features tend to have the highest impact?\n",
    "1. Do some features hurt the accuracy? Why?\n",
    "1. What is the ideal number of lags?\n",
    "1. What a priori features have the highest impact?\n",
    "1. Is it better to use only the most recent data? How much?\n",
    "\n",
    "## Further Exploration\n",
    "1. Explore the impact of the forecast distance on accuracy\n",
    "1. Explore the impact of log transforming the target\n",
    "1. Explore the impact of differencing the target\n",
    "1. Explore the impact of [other types of machine learning models](http://scikit-learn.org/stable/supervised_learning.html)\n",
    "1. Compare results with a [classical ARIMA model](http://www.statsmodels.org/dev/examples/notebooks/generated/statespace_sarimax_stata.html)\n",
    "1. Explore incorporating additional data (e.g. holidays, economic data, etc)\n"
   ]
  },
  {
   "cell_type": "code",
   "execution_count": null,
   "metadata": {},
   "outputs": [],
   "source": []
  }
 ],
 "metadata": {
  "kernelspec": {
   "display_name": "Python 3",
   "language": "python",
   "name": "python3"
  },
  "language_info": {
   "codemirror_mode": {
    "name": "ipython",
    "version": 3
   },
   "file_extension": ".py",
   "mimetype": "text/x-python",
   "name": "python",
   "nbconvert_exporter": "python",
   "pygments_lexer": "ipython3",
   "version": "3.6.3"
  }
 },
 "nbformat": 4,
 "nbformat_minor": 2
}
